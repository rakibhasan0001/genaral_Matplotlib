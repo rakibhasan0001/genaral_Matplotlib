{
 "cells": [
  {
   "cell_type": "code",
   "execution_count": 1,
   "id": "liable-projection",
   "metadata": {},
   "outputs": [
    {
     "data": {
      "image/png": "[encoded data removed]",
      "text/plain": [
       "<Figure size 432x288 with 1 Axes>"
      ]
     },
     "metadata": {},
     "output_type": "display_data"
    }
   ],
   "source": [
    "import random\n",
    "from itertools import count\n",
    "import pandas as pd\n",
    "import matplotlib.pyplot as plt\n",
    "\n",
    "plt.style.use('fivethirtyeight')\n",
    "\n",
    "x_vals = [0, 1, 2, 3, 4, 5]\n",
    "y_vals = [0, 1, 3, 2, 3, 5]\n",
    "\n",
    "plt.plot(x_vals, y_vals)\n",
    "\n",
    "\n",
    "# index = count()\n",
    "\n",
    "# def animate(i):\n",
    "#     x_vals.append(next(index))\n",
    "#     y_vals.append(random.randint(0, 5))\n",
    "\n",
    "\n",
    "plt.tight_layout()\n",
    "plt.show()\n",
    "\n",
    "\n",
    "# data = pd.read_csv('data.csv')\n",
    "# x = data['x_value']\n",
    "# y1 = data['total_1']\n",
    "# y2 = data['total_2']"
   ]
  },
  {
   "cell_type": "code",
   "execution_count": 5,
   "id": "armed-spending",
   "metadata": {},
   "outputs": [
    {
     "data": {
      "text/plain": [
       "<Figure size 432x288 with 0 Axes>"
      ]
     },
     "metadata": {},
     "output_type": "display_data"
    }
   ],
   "source": [
    "import random\n",
    "from itertools import count\n",
    "import pandas as pd\n",
    "import matplotlib.pyplot as plt\n",
    "from matplotlib.animation import FuncAnimation\n",
    "\n",
    "plt.style.use('fivethirtyeight')\n",
    "\n",
    "x_vals = []\n",
    "y_vals = []\n",
    "\n",
    "index = count()\n",
    "\n",
    "def animate(i):\n",
    "    x_vals.append(next(index))\n",
    "    y_vals.append(random.randint(0, 5))\n",
    "    plt.cla()#help to make a constant color\n",
    "    plt.plot(x_vals, y_vals)\n",
    "\n",
    "ani=FuncAnimation(plt.gcf(),animate,interval=1000)\n",
    "\n",
    "plt.tight_layout()\n",
    "plt.show()\n",
    "\n",
    "\n",
    "# data = pd.read_csv('data.csv')\n",
    "# x = data['x_value']\n",
    "# y1 = data['total_1']\n",
    "# y2 = data['total_2']"
   ]
  },
  {
   "cell_type": "code",
   "execution_count": 7,
   "id": "severe-dakota",
   "metadata": {},
   "outputs": [
    {
     "data": {
      "text/plain": [
       "<Figure size 432x288 with 0 Axes>"
      ]
     },
     "metadata": {},
     "output_type": "display_data"
    }
   ],
   "source": [
    "import random\n",
    "from itertools import count\n",
    "import pandas as pd\n",
    "import matplotlib.pyplot as plt\n",
    "from matplotlib.animation import FuncAnimation\n",
    "\n",
    "plt.style.use('fivethirtyeight')\n",
    "\n",
    "x_vals = []\n",
    "y_vals = []\n",
    "\n",
    "index = count()\n",
    "\n",
    "def animate(i):\n",
    "    data = pd.read_csv('data.csv')\n",
    "    x = data['x_value']\n",
    "    y1 = data['total_1']\n",
    "    y2 = data['total_2']\n",
    "    plt.cla()# get a constant color\n",
    "    plt.plot(x,y1,label='channel 1')\n",
    "    plt.plot(x,y2,label='channel 2')\n",
    "    plt.legend()\n",
    "    plt.tight_layout()\n",
    "ani=FuncAnimation(plt.gcf(),animate,interval=1000)\n",
    "\n",
    "\n",
    "plt.show()\n",
    "\n",
    "\n"
   ]
  },
  {
   "cell_type": "code",
   "execution_count": 8,
   "id": "centered-wichita",
   "metadata": {},
   "outputs": [
    {
     "data": {
      "image/png": "[encoded data removed]",
      "text/plain": [
       "<Figure size 432x288 with 1 Axes>"
      ]
     },
     "metadata": {},
     "output_type": "display_data"
    }
   ],
   "source": [
    "# Another way to do it without clearing the Axis\n",
    "from itertools import count\n",
    "import pandas as pd\n",
    "import matplotlib.pyplot as plt\n",
    "from matplotlib.animation import FuncAnimation\n",
    "\n",
    "plt.style.use('fivethirtyeight')\n",
    "\n",
    "x_vals = []\n",
    "y_vals = []\n",
    "\n",
    "plt.plot([], [], label='Channel 1')\n",
    "plt.plot([], [], label='Channel 2')\n",
    "\n",
    "\n",
    "def animate(i):\n",
    "    data = pd.read_csv('data.csv')\n",
    "    x = data['x_value']\n",
    "    y1 = data['total_1']\n",
    "    y2 = data['total_2']\n",
    "\n",
    "    ax = plt.gca()# get current axis\n",
    "    line1, line2 = ax.lines\n",
    "\n",
    "    line1.set_data(x, y1)\n",
    "    line2.set_data(x, y2)\n",
    "\n",
    "    xlim_low, xlim_high = ax.get_xlim()\n",
    "    ylim_low, ylim_high = ax.get_ylim()\n",
    "\n",
    "    ax.set_xlim(xlim_low, (x.max() + 5))\n",
    "\n",
    "    y1max = y1.max()\n",
    "    y2max = y2.max()\n",
    "    current_ymax = y1max if (y1max > y2max) else y2max\n",
    "\n",
    "    y1min = y1.min()\n",
    "    y2min = y2.min()\n",
    "    current_ymin = y1min if (y1min < y2min) else y2min\n",
    "\n",
    "    ax.set_ylim((current_ymin - 5), (current_ymax + 5))\n",
    "\n",
    "\n",
    "ani = FuncAnimation(plt.gcf(), animate, interval=1000)\n",
    "\n",
    "plt.legend()\n",
    "plt.tight_layout()\n",
    "plt.show()"
   ]
  },
  {
   "cell_type": "code",
   "execution_count": 9,
   "id": "rough-azerbaijan",
   "metadata": {},
   "outputs": [
    {
     "name": "stderr",
     "output_type": "stream",
     "text": [
      "c:\\users\\rakib\\appdata\\local\\programs\\python\\python39\\lib\\site-packages\\matplotlib\\animation.py:973: UserWarning: Animation was deleted without rendering anything. This is most likely unintended. To prevent deletion, assign the Animation to a variable that exists for as long as you need the Animation.\n",
      "  warnings.warn(\n"
     ]
    },
    {
     "data": {
      "text/plain": [
       "<Figure size 432x288 with 0 Axes>"
      ]
     },
     "metadata": {},
     "output_type": "display_data"
    }
   ],
   "source": [
    "import random\n",
    "from itertools import count\n",
    "import pandas as pd\n",
    "import matplotlib.pyplot as plt\n",
    "from matplotlib.animation import FuncAnimation\n",
    "\n",
    "plt.style.use('fivethirtyeight')\n",
    "\n",
    "x_vals = []\n",
    "y_vals = []\n",
    "\n",
    "index = count()\n",
    "\n",
    "\n",
    "def animate(i):\n",
    "    data = pd.read_csv('data.csv')\n",
    "    x = data['x_value']\n",
    "    y1 = data['total_1']\n",
    "    y2 = data['total_2']\n",
    "\n",
    "    plt.cla()\n",
    "\n",
    "    plt.plot(x, y1, label='Channel 1')\n",
    "    plt.plot(x, y2, label='Channel 2')\n",
    "\n",
    "    plt.legend(loc='upper left')\n",
    "    plt.tight_layout()\n",
    "\n",
    "\n",
    "ani = FuncAnimation(plt.gcf(), animate, interval=1000)\n",
    "\n",
    "plt.tight_layout()\n",
    "plt.show()"
   ]
  },
  {
   "cell_type": "code",
   "execution_count": null,
   "id": "altered-activation",
   "metadata": {},
   "outputs": [],
   "source": [
    "import csv\n",
    "import random\n",
    "import time\n",
    "\n",
    "x_value = 0\n",
    "total_1 = 1000\n",
    "total_2 = 1000\n",
    "\n",
    "fieldnames = [\"x_value\", \"total_1\", \"total_2\"]\n",
    "\n",
    "\n",
    "with open('data.csv', 'w') as csv_file:\n",
    "    csv_writer = csv.DictWriter(csv_file, fieldnames=fieldnames)\n",
    "    csv_writer.writeheader()\n",
    "\n",
    "while True:\n",
    "\n",
    "    with open('data.csv', 'a') as csv_file:\n",
    "        csv_writer = csv.DictWriter(csv_file, fieldnames=fieldnames)\n",
    "\n",
    "        info = {\n",
    "            \"x_value\": x_value,\n",
    "            \"total_1\": total_1,\n",
    "            \"total_2\": total_2\n",
    "        }\n",
    "\n",
    "        csv_writer.writerow(info)\n",
    "        print(x_value, total_1, total_2)\n",
    "\n",
    "        x_value += 1\n",
    "        total_1 = total_1 + random.randint(-6, 8)\n",
    "        total_2 = total_2 + random.randint(-5, 6)\n",
    "\n",
    "    time.sleep(1)\n",
    "    plt.close()"
   ]
  },
  {
   "cell_type": "code",
   "execution_count": null,
   "id": "absent-martial",
   "metadata": {},
   "outputs": [],
   "source": []
  }
 ],
 "metadata": {
  "kernelspec": {
   "display_name": "Python 3",
   "language": "python",
   "name": "python3"
  },
  "language_info": {
   "codemirror_mode": {
    "name": "ipython",
    "version": 3
   },
   "file_extension": ".py",
   "mimetype": "text/x-python",
   "name": "python",
   "nbconvert_exporter": "python",
   "pygments_lexer": "ipython3",
   "version": "3.9.2"
  }
 },
 "nbformat": 4,
 "nbformat_minor": 5
}
